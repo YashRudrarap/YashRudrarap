{
  "nbformat": 4,
  "nbformat_minor": 0,
  "metadata": {
    "colab": {
      "provenance": [],
      "authorship_tag": "ABX9TyOJQ3S8MPFwsQQCaiVGLVZA",
      "include_colab_link": true
    },
    "kernelspec": {
      "name": "python3",
      "display_name": "Python 3"
    },
    "language_info": {
      "name": "python"
    }
  },
  "cells": [
    {
      "cell_type": "markdown",
      "metadata": {
        "id": "view-in-github",
        "colab_type": "text"
      },
      "source": [
        "<a href=\"https://colab.research.google.com/github/YashRudrarap/YashRudrarap/blob/main/Numpy.ipynb\" target=\"_parent\"><img src=\"https://colab.research.google.com/assets/colab-badge.svg\" alt=\"Open In Colab\"/></a>"
      ]
    },
    {
      "cell_type": "code",
      "execution_count": 2,
      "metadata": {
        "colab": {
          "base_uri": "https://localhost:8080/"
        },
        "id": "DSpyKQAbo6AI",
        "outputId": "409895c7-2788-4769-a715-956b68e81063"
      },
      "outputs": [
        {
          "output_type": "execute_result",
          "data": {
            "text/plain": [
              "array([24, 28, 32, 34, 36])"
            ]
          },
          "metadata": {},
          "execution_count": 2
        }
      ],
      "source": [
        "import numpy as np\n",
        "age = np.array([24,28,32,34,36])\n",
        "age"
      ]
    },
    {
      "cell_type": "code",
      "source": [
        "data = np.array([[24,12,123,43],[23,34,45,56],[87,79,99,90],[31,34,54,56],[45,54,65,56]])\n",
        "data"
      ],
      "metadata": {
        "colab": {
          "base_uri": "https://localhost:8080/"
        },
        "id": "uKl1v5lIqbwu",
        "outputId": "a38c7952-fc09-481b-d6ac-ba6e3d4da340"
      },
      "execution_count": 6,
      "outputs": [
        {
          "output_type": "execute_result",
          "data": {
            "text/plain": [
              "array([[ 24,  12, 123,  43],\n",
              "       [ 23,  34,  45,  56],\n",
              "       [ 87,  79,  99,  90],\n",
              "       [ 31,  34,  54,  56],\n",
              "       [ 45,  54,  65,  56]])"
            ]
          },
          "metadata": {},
          "execution_count": 6
        }
      ]
    },
    {
      "cell_type": "code",
      "source": [
        "data[ : , 0:1]"
      ],
      "metadata": {
        "colab": {
          "base_uri": "https://localhost:8080/"
        },
        "id": "4zubC4ogrSDI",
        "outputId": "e6d6e3eb-0fef-45a0-ee0f-d6b1913c1929"
      },
      "execution_count": 7,
      "outputs": [
        {
          "output_type": "execute_result",
          "data": {
            "text/plain": [
              "array([[24],\n",
              "       [23],\n",
              "       [87],\n",
              "       [31],\n",
              "       [45]])"
            ]
          },
          "metadata": {},
          "execution_count": 7
        }
      ]
    },
    {
      "cell_type": "code",
      "source": [
        "data[0:1 , :]"
      ],
      "metadata": {
        "colab": {
          "base_uri": "https://localhost:8080/"
        },
        "id": "qnGn4BIqrd6R",
        "outputId": "856dda57-0f79-4e68-fd7f-5ca0af974012"
      },
      "execution_count": 9,
      "outputs": [
        {
          "output_type": "execute_result",
          "data": {
            "text/plain": [
              "array([[ 24,  12, 123,  43]])"
            ]
          },
          "metadata": {},
          "execution_count": 9
        }
      ]
    },
    {
      "cell_type": "code",
      "source": [
        "data[2,3]"
      ],
      "metadata": {
        "colab": {
          "base_uri": "https://localhost:8080/"
        },
        "id": "IRRgFYaBruon",
        "outputId": "86d693a8-59a8-4dfd-c6f8-427e82ddb2fc"
      },
      "execution_count": 10,
      "outputs": [
        {
          "output_type": "execute_result",
          "data": {
            "text/plain": [
              "np.int64(90)"
            ]
          },
          "metadata": {},
          "execution_count": 10
        }
      ]
    },
    {
      "cell_type": "code",
      "source": [
        "data[0:2, :]"
      ],
      "metadata": {
        "colab": {
          "base_uri": "https://localhost:8080/"
        },
        "id": "yMBqjmvfr_aa",
        "outputId": "3b910009-78bc-46c4-d0e1-7eea454eb774"
      },
      "execution_count": 12,
      "outputs": [
        {
          "output_type": "execute_result",
          "data": {
            "text/plain": [
              "array([[ 24,  12, 123,  43],\n",
              "       [ 23,  34,  45,  56]])"
            ]
          },
          "metadata": {},
          "execution_count": 12
        }
      ]
    },
    {
      "cell_type": "code",
      "source": [],
      "metadata": {
        "id": "VZgfawzasKC-"
      },
      "execution_count": null,
      "outputs": []
    },
    {
      "cell_type": "code",
      "source": [
        "data[: ,0:2]"
      ],
      "metadata": {
        "colab": {
          "base_uri": "https://localhost:8080/"
        },
        "id": "03toX26QsGM0",
        "outputId": "3e376389-1e3a-4a5f-a146-f85e43b37f10"
      },
      "execution_count": 13,
      "outputs": [
        {
          "output_type": "execute_result",
          "data": {
            "text/plain": [
              "array([[24, 12],\n",
              "       [23, 34],\n",
              "       [87, 79],\n",
              "       [31, 34],\n",
              "       [45, 54]])"
            ]
          },
          "metadata": {},
          "execution_count": 13
        }
      ]
    },
    {
      "cell_type": "code",
      "source": [
        "np.mean(data[ : , 0:2])\n",
        "\n",
        "\n",
        "print(\"Mean:\", np.mean(data[ : , 0:2]))\n",
        "print(\"Median:\",np.median(data[ : , 0:2]))\n",
        "print(\"Standard deviation:\",np.std(data[ : , 0:2]))\n",
        "print(\"Variance:\",np.var(data[ : , 0:2]))"
      ],
      "metadata": {
        "colab": {
          "base_uri": "https://localhost:8080/"
        },
        "id": "aJ9bBxlytI6W",
        "outputId": "ca6f9ab8-f083-4992-c28c-1425207815a0"
      },
      "execution_count": 16,
      "outputs": [
        {
          "output_type": "stream",
          "name": "stdout",
          "text": [
            "Mean: 42.3\n",
            "Median: 34.0\n",
            "Standard deviation: 23.195042573791497\n",
            "Variance: 538.01\n"
          ]
        }
      ]
    },
    {
      "cell_type": "code",
      "source": [
        "x1 = np.random.randint(15,16, size=7)\n",
        "x1"
      ],
      "metadata": {
        "colab": {
          "base_uri": "https://localhost:8080/"
        },
        "id": "DHN23KPyvbLm",
        "outputId": "3d5bc211-5a06-4d6d-9360-009c8fc6ea5e"
      },
      "execution_count": 22,
      "outputs": [
        {
          "output_type": "execute_result",
          "data": {
            "text/plain": [
              "array([15, 15, 15, 15, 15, 15, 15])"
            ]
          },
          "metadata": {},
          "execution_count": 22
        }
      ]
    },
    {
      "cell_type": "code",
      "source": [
        "x1.ndim"
      ],
      "metadata": {
        "colab": {
          "base_uri": "https://localhost:8080/"
        },
        "id": "Z6KQv691wZJX",
        "outputId": "f32cce97-673e-465f-f7ad-ddd4000aaf9d"
      },
      "execution_count": 23,
      "outputs": [
        {
          "output_type": "execute_result",
          "data": {
            "text/plain": [
              "1"
            ]
          },
          "metadata": {},
          "execution_count": 23
        }
      ]
    },
    {
      "cell_type": "code",
      "source": [
        "x2 = np.random.randint(1,20, size=(5,4))\n",
        "x2"
      ],
      "metadata": {
        "colab": {
          "base_uri": "https://localhost:8080/"
        },
        "id": "XHp74jGdwelR",
        "outputId": "efdcb0a6-153a-4105-f754-0d3208c54049"
      },
      "execution_count": 25,
      "outputs": [
        {
          "output_type": "execute_result",
          "data": {
            "text/plain": [
              "array([[10, 16,  3, 12],\n",
              "       [19,  9, 17, 17],\n",
              "       [ 1,  4,  3, 18],\n",
              "       [ 9, 18,  3,  8],\n",
              "       [15,  7, 12,  7]])"
            ]
          },
          "metadata": {},
          "execution_count": 25
        }
      ]
    },
    {
      "cell_type": "code",
      "source": [
        "x3 = np.random.randint(1,20, size=(5,4,3))\n",
        "x3"
      ],
      "metadata": {
        "colab": {
          "base_uri": "https://localhost:8080/"
        },
        "id": "h85ALeSKxtKK",
        "outputId": "2012858d-52f0-4265-f339-b84de646e3f7"
      },
      "execution_count": 26,
      "outputs": [
        {
          "output_type": "execute_result",
          "data": {
            "text/plain": [
              "array([[[ 7, 11,  2],\n",
              "        [13, 12, 18],\n",
              "        [ 6,  6, 15],\n",
              "        [12, 10, 15]],\n",
              "\n",
              "       [[ 3, 15, 10],\n",
              "        [ 9,  5, 19],\n",
              "        [ 7, 14,  2],\n",
              "        [ 6, 14, 18]],\n",
              "\n",
              "       [[18, 11, 15],\n",
              "        [ 2,  4,  7],\n",
              "        [ 9, 12, 18],\n",
              "        [17, 12,  2]],\n",
              "\n",
              "       [[ 8,  6,  8],\n",
              "        [ 5, 12, 15],\n",
              "        [15, 18, 18],\n",
              "        [14, 15,  8]],\n",
              "\n",
              "       [[ 5,  8, 14],\n",
              "        [ 9, 17, 10],\n",
              "        [ 8, 11,  8],\n",
              "        [11, 10,  2]]])"
            ]
          },
          "metadata": {},
          "execution_count": 26
        }
      ]
    },
    {
      "cell_type": "code",
      "source": [
        "print(\"Mean:\", df[\"BP\"].mean())\n",
        "print(\"Median:\",df[\"BP\"].median())\n",
        "print(\"Standard deviation:\",np.std(data[ : , 0:2]))\n",
        "print(\"Variance:\",np.var(data[ : , 0:2]))"
      ],
      "metadata": {
        "colab": {
          "base_uri": "https://localhost:8080/",
          "height": 193
        },
        "collapsed": true,
        "id": "et7NUyVD9MJq",
        "outputId": "e0d32699-f466-4d2b-cdc4-9007931b507d"
      },
      "execution_count": 28,
      "outputs": [
        {
          "output_type": "error",
          "ename": "NameError",
          "evalue": "name 'df' is not defined",
          "traceback": [
            "\u001b[0;31m---------------------------------------------------------------------------\u001b[0m",
            "\u001b[0;31mNameError\u001b[0m                                 Traceback (most recent call last)",
            "\u001b[0;32m<ipython-input-28-1338416753>\u001b[0m in \u001b[0;36m<cell line: 0>\u001b[0;34m()\u001b[0m\n\u001b[0;32m----> 1\u001b[0;31m \u001b[0mprint\u001b[0m\u001b[0;34m(\u001b[0m\u001b[0;34m\"Mean:\"\u001b[0m\u001b[0;34m,\u001b[0m \u001b[0mdf\u001b[0m\u001b[0;34m[\u001b[0m\u001b[0;34m\"BP\"\u001b[0m\u001b[0;34m]\u001b[0m\u001b[0;34m.\u001b[0m\u001b[0mmean\u001b[0m\u001b[0;34m(\u001b[0m\u001b[0;34m)\u001b[0m\u001b[0;34m)\u001b[0m\u001b[0;34m\u001b[0m\u001b[0;34m\u001b[0m\u001b[0m\n\u001b[0m\u001b[1;32m      2\u001b[0m \u001b[0mprint\u001b[0m\u001b[0;34m(\u001b[0m\u001b[0;34m\"Median:\"\u001b[0m\u001b[0;34m,\u001b[0m\u001b[0mdf\u001b[0m\u001b[0;34m[\u001b[0m\u001b[0;34m\"BP\"\u001b[0m\u001b[0;34m]\u001b[0m\u001b[0;34m.\u001b[0m\u001b[0mmedian\u001b[0m\u001b[0;34m(\u001b[0m\u001b[0;34m)\u001b[0m\u001b[0;34m)\u001b[0m\u001b[0;34m\u001b[0m\u001b[0;34m\u001b[0m\u001b[0m\n\u001b[1;32m      3\u001b[0m \u001b[0mprint\u001b[0m\u001b[0;34m(\u001b[0m\u001b[0;34m\"Standard deviation:\"\u001b[0m\u001b[0;34m,\u001b[0m\u001b[0mnp\u001b[0m\u001b[0;34m.\u001b[0m\u001b[0mstd\u001b[0m\u001b[0;34m(\u001b[0m\u001b[0mdata\u001b[0m\u001b[0;34m[\u001b[0m \u001b[0;34m:\u001b[0m \u001b[0;34m,\u001b[0m \u001b[0;36m0\u001b[0m\u001b[0;34m:\u001b[0m\u001b[0;36m2\u001b[0m\u001b[0;34m]\u001b[0m\u001b[0;34m)\u001b[0m\u001b[0;34m)\u001b[0m\u001b[0;34m\u001b[0m\u001b[0;34m\u001b[0m\u001b[0m\n\u001b[1;32m      4\u001b[0m \u001b[0mprint\u001b[0m\u001b[0;34m(\u001b[0m\u001b[0;34m\"Variance:\"\u001b[0m\u001b[0;34m,\u001b[0m\u001b[0mnp\u001b[0m\u001b[0;34m.\u001b[0m\u001b[0mvar\u001b[0m\u001b[0;34m(\u001b[0m\u001b[0mdata\u001b[0m\u001b[0;34m[\u001b[0m \u001b[0;34m:\u001b[0m \u001b[0;34m,\u001b[0m \u001b[0;36m0\u001b[0m\u001b[0;34m:\u001b[0m\u001b[0;36m2\u001b[0m\u001b[0;34m]\u001b[0m\u001b[0;34m)\u001b[0m\u001b[0;34m)\u001b[0m\u001b[0;34m\u001b[0m\u001b[0;34m\u001b[0m\u001b[0m\n",
            "\u001b[0;31mNameError\u001b[0m: name 'df' is not defined"
          ]
        }
      ]
    },
    {
      "cell_type": "code",
      "source": [
        "import numpy as np\n",
        "import pandas as pd\n",
        "\n",
        "\n",
        "data = np.array([\n",
        "    [120, 170, 65],\n",
        "    [130, 175, 70],\n",
        "    [110, 165, 60],\n",
        "    [140, 180, 80],\n",
        "    [125, 172, 68]\n",
        "])\n"
      ],
      "metadata": {
        "id": "5ecvxZgLAHlw"
      },
      "execution_count": 29,
      "outputs": []
    },
    {
      "cell_type": "code",
      "source": [
        "df = pd.DataFrame(data, columns=['Blood Pressure', 'Height', 'Weight'])\n"
      ],
      "metadata": {
        "id": "ch8k5pUfAJS_"
      },
      "execution_count": 30,
      "outputs": []
    },
    {
      "cell_type": "code",
      "source": [
        "mean = df.mean()\n",
        "median = df.median()\n",
        "variance = df.var()\n",
        "std_dev = df.std()\n"
      ],
      "metadata": {
        "id": "MknEQ6yrAS2c"
      },
      "execution_count": 31,
      "outputs": []
    },
    {
      "cell_type": "code",
      "source": [
        "stats_table = pd.DataFrame([\n",
        "    mean,\n",
        "    median,\n",
        "    variance,\n",
        "    std_dev\n",
        "], index=['a', 'b', 'c', 'd'])\n",
        "\n",
        "print(stats_table)"
      ],
      "metadata": {
        "colab": {
          "base_uri": "https://localhost:8080/"
        },
        "id": "Up0z5dLSAUOG",
        "outputId": "9fded076-5c77-43be-c983-372ba0c29d41"
      },
      "execution_count": 32,
      "outputs": [
        {
          "output_type": "stream",
          "name": "stdout",
          "text": [
            "   Blood Pressure     Height     Weight\n",
            "a       125.00000  172.40000  68.600000\n",
            "b       125.00000  172.00000  68.000000\n",
            "c       125.00000   31.30000  54.800000\n",
            "d        11.18034    5.59464   7.402702\n"
          ]
        }
      ]
    },
    {
      "cell_type": "markdown",
      "source": [
        "student marks obseravtion :\n"
      ],
      "metadata": {
        "id": "XuEBVJpEBZ3X"
      }
    },
    {
      "cell_type": "code",
      "source": [
        "import pandas as pd\n",
        "\n",
        "unstructured_data = [\n",
        "    [\"John\", 88, \"A\", 3],\n",
        "    [\"Anika\", 92, \"B\", 1],\n",
        "    [\"Ravi\", 85, \"A\", 4],\n",
        "    [\"Sara\", 90, \"B\", 2],\n",
        "    [\"Mike\", 76, \"C\", 5]\n",
        "]\n"
      ],
      "metadata": {
        "id": "Oy1cf4_tA6PW"
      },
      "execution_count": 33,
      "outputs": []
    },
    {
      "cell_type": "code",
      "source": [
        "\n",
        "df = pd.DataFrame(unstructured_data, columns=[\"Student Name\", \"Marks\", \"Section\", \"Rank\"])\n",
        "\n",
        "print(df)\n"
      ],
      "metadata": {
        "colab": {
          "base_uri": "https://localhost:8080/"
        },
        "id": "eHatHOByBRFM",
        "outputId": "477d656a-4a12-4e9b-b901-c95bc0780b4e"
      },
      "execution_count": 35,
      "outputs": [
        {
          "output_type": "stream",
          "name": "stdout",
          "text": [
            "  Student Name  Marks Section  Rank\n",
            "0         John     88       A     3\n",
            "1        Anika     92       B     1\n",
            "2         Ravi     85       A     4\n",
            "3         Sara     90       B     2\n",
            "4         Mike     76       C     5\n"
          ]
        }
      ]
    },
    {
      "cell_type": "code",
      "source": [
        "df_sorted = df.sort_values(by=\"Rank\")\n",
        "print(df_sorted)\n"
      ],
      "metadata": {
        "colab": {
          "base_uri": "https://localhost:8080/"
        },
        "id": "X3uW9mkhCa03",
        "outputId": "fb751c32-182e-43f6-e993-8d71f89fb462"
      },
      "execution_count": 36,
      "outputs": [
        {
          "output_type": "stream",
          "name": "stdout",
          "text": [
            "  Student Name  Marks Section  Rank\n",
            "1        Anika     92       B     1\n",
            "3         Sara     90       B     2\n",
            "0         John     88       A     3\n",
            "2         Ravi     85       A     4\n",
            "4         Mike     76       C     5\n"
          ]
        }
      ]
    }
  ]
}